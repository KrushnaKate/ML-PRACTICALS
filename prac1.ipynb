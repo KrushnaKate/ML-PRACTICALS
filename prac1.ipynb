{
 "cells": [
  {
   "cell_type": "code",
   "execution_count": null,
   "id": "9cef11f4-5438-4be6-95c2-5d51dc168f3f",
   "metadata": {},
   "outputs": [],
   "source": [
    "import pandas as pd"
   ]
  },
  {
   "cell_type": "code",
   "execution_count": null,
   "id": "c2f449c5-4a83-493c-acd2-cf8e15b583de",
   "metadata": {},
   "outputs": [],
   "source": [
    "data = pd.read_csv(\"Heart.csv\")"
   ]
  },
  {
   "cell_type": "code",
   "execution_count": null,
   "id": "44accdcb-e4d5-42c7-bc0f-01505a23a6e6",
   "metadata": {
    "scrolled": true
   },
   "outputs": [],
   "source": [
    "data"
   ]
  },
  {
   "cell_type": "code",
   "execution_count": null,
   "id": "88b4626f-6bcd-4e1c-9e21-fef2b7281b40",
   "metadata": {},
   "outputs": [],
   "source": [
    "data.shape"
   ]
  },
  {
   "cell_type": "code",
   "execution_count": null,
   "id": "fda611cb-9844-4e79-8d1e-102167b5836b",
   "metadata": {},
   "outputs": [],
   "source": [
    "data.info()"
   ]
  },
  {
   "cell_type": "code",
   "execution_count": null,
   "id": "3d7b37df-840e-4ea8-a9a0-d3a17a40945f",
   "metadata": {},
   "outputs": [],
   "source": [
    "data.describe()"
   ]
  },
  {
   "cell_type": "code",
   "execution_count": null,
   "id": "5a9d64c1-2748-4ecd-9c6f-65b9c93b3587",
   "metadata": {},
   "outputs": [],
   "source": [
    "#null values\n",
    "data.isnull().sum()"
   ]
  },
  {
   "cell_type": "code",
   "execution_count": null,
   "id": "c36246f0-ffc3-4171-a95a-7f7731b29394",
   "metadata": {},
   "outputs": [],
   "source": [
    "#no of zeros\n",
    "data[data==0].count()"
   ]
  },
  {
   "cell_type": "code",
   "execution_count": null,
   "id": "00ad1fbe-5141-450b-ab25-bbe452e80cc7",
   "metadata": {},
   "outputs": [],
   "source": [
    "#mean of age\n",
    "data[\"Age\"].mean()"
   ]
  },
  {
   "cell_type": "code",
   "execution_count": null,
   "id": "9e8bdb1f-b31f-48bf-b631-74685f456773",
   "metadata": {},
   "outputs": [],
   "source": [
    "#train test split\n",
    "from sklearn.model_selection import train_test_split"
   ]
  },
  {
   "cell_type": "code",
   "execution_count": null,
   "id": "a796b323-4c92-4f96-bee3-b5e6b4763d5b",
   "metadata": {},
   "outputs": [],
   "source": [
    "x = data[[\"Age\", \"Sex\", \"ChestPain\", \"RestBP\", \"Chol\"]]\n",
    "\n",
    "train, test = train_test_split(x,train_size = 0.75,random_state = 0)"
   ]
  },
  {
   "cell_type": "code",
   "execution_count": null,
   "id": "47d2bbf0-fb13-4311-a789-d410b886a04d",
   "metadata": {},
   "outputs": [],
   "source": []
  },
  {
   "cell_type": "code",
   "execution_count": null,
   "id": "e2f9ae1f-dbfb-44e2-9f5b-ab1abe5b4075",
   "metadata": {},
   "outputs": [],
   "source": [
    "import numpy as np\n",
    "from sklearn.metrics import ConfusionMatrixDisplay"
   ]
  },
  {
   "cell_type": "code",
   "execution_count": null,
   "id": "d25693c7-5471-4dac-910c-006111b36e47",
   "metadata": {},
   "outputs": [],
   "source": [
    "actual = list(np.ones(45))+list(np.zeros(55))\n",
    "predicted = list(np.ones(40))+list(np.zeros(60))              "
   ]
  },
  {
   "cell_type": "code",
   "execution_count": null,
   "id": "06baa06e-5d0a-458b-9c1e-1a1ea6091667",
   "metadata": {},
   "outputs": [],
   "source": [
    "ConfusionMatrixDisplay.from_predictions(actual, predicted)"
   ]
  },
  {
   "cell_type": "code",
   "execution_count": null,
   "id": "48e07214-e51c-4c96-8a6c-29615dd1521a",
   "metadata": {},
   "outputs": [],
   "source": [
    "from sklearn.metrics import classification_report"
   ]
  },
  {
   "cell_type": "code",
   "execution_count": null,
   "id": "ca691a9a-c9b9-494b-9988-9dabbe2167ea",
   "metadata": {},
   "outputs": [],
   "source": [
    "print(classification_report(actual,predicted))"
   ]
  }
 ],
 "metadata": {
  "kernelspec": {
   "display_name": "Python 3 (ipykernel)",
   "language": "python",
   "name": "python3"
  },
  "language_info": {
   "codemirror_mode": {
    "name": "ipython",
    "version": 3
   },
   "file_extension": ".py",
   "mimetype": "text/x-python",
   "name": "python",
   "nbconvert_exporter": "python",
   "pygments_lexer": "ipython3",
   "version": "3.11.7"
  }
 },
 "nbformat": 4,
 "nbformat_minor": 5
}
